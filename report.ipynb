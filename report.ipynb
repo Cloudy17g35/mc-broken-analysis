{
 "cells": [
  {
   "cell_type": "code",
   "execution_count": 9,
   "metadata": {},
   "outputs": [],
   "source": [
    "from datetime import datetime\n",
    "import pytz\n",
    "import settings\n",
    "import os\n",
    "from src import json_handling\n",
    "\n",
    "tz = pytz.timezone(settings.timezone)\n",
    "current_time:datetime = datetime.now(tz=tz)"
   ]
  },
  {
   "cell_type": "code",
   "execution_count": 18,
   "metadata": {},
   "outputs": [],
   "source": [
    "def display_daily_report(\n",
    "    year:int,\n",
    "    month:int,\n",
    "    day:int):\n",
    "    path_to_files:str = f'{settings.data_dir_suffix}/year={year}/month={month}/day={day}/'\n",
    "    if not os.path.exists(path_to_files):\n",
    "        print(f\"There's no report for this year: {year}, month: {month}, day: {day}\")\n",
    "    list_of_files = os.listdir(path_to_files)\n",
    "    if not list_of_files:\n",
    "        print(f\"There's no report for this year: {year}, month: {month}, day: {day}\")\n",
    "    summed_revenue:float = 0\n",
    "\n",
    "    for file in list_of_files:\n",
    "        path_to_cur_file:str = f'{path_to_files}/{file}'\n",
    "        current_dict:dict = json_handling.read_json_to_dict(path_to_cur_file)\n",
    "        print(current_dict)\n",
    "        summed_revenue += current_dict['lost_revenue']\n",
    "\n",
    "    return summed_revenue"
   ]
  },
  {
   "cell_type": "code",
   "execution_count": 19,
   "metadata": {},
   "outputs": [
    {
     "name": "stdout",
     "output_type": "stream",
     "text": [
      "{'lost_revenue': 5590.870400000001}\n",
      "{'lost_revenue': 5590.870400000001}\n",
      "{'lost_revenue': 5590.870400000001}\n",
      "{'lost_revenue': 5590.870400000001}\n",
      "{'lost_revenue': 5622.879199999999}\n",
      "{'lost_revenue': 5622.879199999999}\n",
      "{'lost_revenue': 5590.870400000001}\n",
      "{'lost_revenue': 5590.870400000001}\n",
      "{'lost_revenue': 5622.879199999999}\n",
      "{'lost_revenue': 5590.870400000001}\n",
      "{'lost_revenue': 5590.870400000001}\n",
      "{'lost_revenue': 5590.870400000001}\n",
      "{'lost_revenue': 5590.870400000001}\n",
      "{'lost_revenue': 5590.870400000001}\n",
      "{'lost_revenue': 5590.870400000001}\n",
      "{'lost_revenue': 5590.870400000001}\n",
      "{'lost_revenue': 5622.879199999999}\n",
      "{'lost_revenue': 5590.870400000001}\n",
      "{'lost_revenue': 5590.870400000001}\n",
      "{'lost_revenue': 5590.870400000001}\n",
      "{'lost_revenue': 5590.870400000001}\n",
      "{'lost_revenue': 5590.870400000001}\n",
      "{'lost_revenue': 5590.870400000001}\n"
     ]
    },
    {
     "data": {
      "text/plain": [
       "128718.0544"
      ]
     },
     "execution_count": 19,
     "metadata": {},
     "output_type": "execute_result"
    }
   ],
   "source": [
    "display_daily_report(year=2022, month=9, day=21)"
   ]
  },
  {
   "cell_type": "code",
   "execution_count": null,
   "metadata": {},
   "outputs": [],
   "source": []
  }
 ],
 "metadata": {
  "kernelspec": {
   "display_name": "Python 3.9.12 ('base')",
   "language": "python",
   "name": "python3"
  },
  "language_info": {
   "codemirror_mode": {
    "name": "ipython",
    "version": 3
   },
   "file_extension": ".py",
   "mimetype": "text/x-python",
   "name": "python",
   "nbconvert_exporter": "python",
   "pygments_lexer": "ipython3",
   "version": "3.9.12"
  },
  "orig_nbformat": 4,
  "vscode": {
   "interpreter": {
    "hash": "f2c62667458288d5907abca8bdbf4dce0afea8e41911bca3184aa0b6a74b7e60"
   }
  }
 },
 "nbformat": 4,
 "nbformat_minor": 2
}
