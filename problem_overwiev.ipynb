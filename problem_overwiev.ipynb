{
 "cells": [
  {
   "cell_type": "markdown",
   "metadata": {},
   "source": [
    "# McDonalds US - broken ice creames machines"
   ]
  },
  {
   "cell_type": "markdown",
   "metadata": {},
   "source": [
    "# Overview"
   ]
  },
  {
   "cell_type": "markdown",
   "metadata": {},
   "source": [
    "Problem: There are ice creames machines in McDonalds restaurants in whole US. Some of them are working, some of them are not.\n",
    "If it's not working it's logic that client who wanted to buy an ice cream won't do it so company is losing money. Otherwise if it's working then client can buy ice cream - company is earning money.\n",
    "\n",
    "Goal: find out how much money McDonalds might be losing due to broken ice cream machines in the US\n",
    "\n",
    "What will be needed?\n",
    "\n",
    "* How many McDonalds are in US\n",
    "* Average revenue/per minute made on ice creams sold in US McDonalds\n",
    "* Percentage value for broken / not broken ice creams machines in current minute"
   ]
  },
  {
   "cell_type": "markdown",
   "metadata": {},
   "source": [
    "## Strategy"
   ]
  },
  {
   "cell_type": "markdown",
   "metadata": {},
   "source": [
    "First we need to find somehow values we need, let's make some google search :) :\n",
    "\n",
    "* How many McDonalds are in US?\n",
    "\n",
    "\n",
    "I'll assume that there's 13,337 McDonalds based on this [article](https://www.scrapehero.com/location-reports/McDonalds-USA/)\n",
    "\n",
    "* Average revenue/per minute made on ice creams sold in US McDonalds\n",
    "\n",
    "Here I did not find many infomation in google so i'm going to assume that one ice cream costs approximately 1$ and on average 4 people wants ice cream every one minute so there's 4$/min per restaurant of course so when we will multiply this value bu the number of restaurants in US which is 13,337 we will have: 53,348 $ revenue per minute\n",
    "\n",
    "\n",
    "* Percentage value for broken / not broken ice creams machines in current minute\n",
    "\n",
    "\n",
    "There is a [site](https://mcbroken.com/) which stores the value of currently broken ice-creames machines in whole US. We can scrap this value using Python script\n"
   ]
  },
  {
   "cell_type": "markdown",
   "metadata": {},
   "source": [
    "## Architecture"
   ]
  },
  {
   "cell_type": "markdown",
   "metadata": {},
   "source": [
    "So when we have percentage value of not working ice creames machines in current minute and average revenue from ice creams sold in every minute in whole US we can calculate revenue lost on broken ice creames machines.\n",
    "\n",
    "We will need:\n",
    "\n",
    "* scraper - script which can scrape percentage value in every minute\n",
    "* database - we need to store calculated values somehow\n",
    "* visualization - we want to see results"
   ]
  },
  {
   "cell_type": "markdown",
   "metadata": {},
   "source": []
  }
 ],
 "metadata": {
  "kernelspec": {
   "display_name": "Python 3.10.6 64-bit",
   "language": "python",
   "name": "python3"
  },
  "language_info": {
   "name": "python",
   "version": "3.10.6"
  },
  "orig_nbformat": 4,
  "vscode": {
   "interpreter": {
    "hash": "b0fa6594d8f4cbf19f97940f81e996739fb7646882a419484c72d19e05852a7e"
   }
  }
 },
 "nbformat": 4,
 "nbformat_minor": 2
}
