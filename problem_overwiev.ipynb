{
 "cells": [
  {
   "cell_type": "markdown",
   "metadata": {},
   "source": [
    "# McDonalds US - broken ice creames machines"
   ]
  },
  {
   "cell_type": "markdown",
   "metadata": {},
   "source": [
    "# Overview"
   ]
  },
  {
   "cell_type": "markdown",
   "metadata": {},
   "source": [
    "Problem: There are ice creames machines in McDonalds restaurants in whole US. Some of them are working, some of them are not.\n",
    "If they re not working it's logic that client who wanted to buy an ice cream won't do it so company is losing money.\n",
    "\n",
    "Goal: find out how much money McDonalds might be losing due to broken ice cream machines in the US\n",
    "\n",
    "What will be needed?\n",
    "\n",
    "* How many McDonalds are in US\n",
    "* Average revenue/per minute made on ice creams sold in ever restaurant in US McDonalds\n",
    "* Percentage value for broken ice creams machines in current minute"
   ]
  },
  {
   "cell_type": "markdown",
   "metadata": {},
   "source": [
    "## Strategy"
   ]
  },
  {
   "cell_type": "markdown",
   "metadata": {},
   "source": [
    "First we need to find somehow values we need, let's make some google search :) :\n",
    "\n",
    "* How many McDonalds are in US?\n",
    "\n",
    "\n",
    "I'll assume that there's 13,337 McDonalds based on this [article](https://www.scrapehero.com/location-reports/McDonalds-USA/)\n",
    "\n",
    "* Average revenue/per minute made on ice creams sold in US McDonalds\n",
    "\n",
    "Here I did not find many infomation in google so i'm going to assume that one ice cream costs approximately **1$** and on average **4 people** wants ice cream every one minute per restaurant of course.So when we will multiply this value by the number of restaurants in US which is **13,337** we will have **53,348 $** potential revenue per minute\n",
    "\n",
    "\n",
    "* Percentage value for broken ice creams machines in current minute\n",
    "\n",
    "\n",
    "There is a [site](https://mcbroken.com/) which stores the value of currently broken ice-creames machines in whole US. We can scrap this value using Python script\n"
   ]
  },
  {
   "cell_type": "markdown",
   "metadata": {},
   "source": [
    "## Solution"
   ]
  },
  {
   "cell_type": "markdown",
   "metadata": {},
   "source": [
    "Potential revenue per minute which comes from ice creams for all restaurants in US might be calculated like this:\n",
    "\n",
    "\n",
    "* (cost of one ice cream * amount of people buying it) * number of restaurants in us\n",
    "\n",
    "\n",
    "Thats potential revenue, but we know that some percentage of all machines are broken, so amount of lost revenue per minute for all restaurants in us will be equal:\n",
    "\n",
    "\n",
    "* (potential revenue * percentage of not working machines) / 100\n"
   ]
  }
 ],
 "metadata": {
  "kernelspec": {
   "display_name": "Python 3.10.6 64-bit",
   "language": "python",
   "name": "python3"
  },
  "language_info": {
   "name": "python",
   "version": "3.10.6"
  },
  "orig_nbformat": 4,
  "vscode": {
   "interpreter": {
    "hash": "b0fa6594d8f4cbf19f97940f81e996739fb7646882a419484c72d19e05852a7e"
   }
  }
 },
 "nbformat": 4,
 "nbformat_minor": 2
}
